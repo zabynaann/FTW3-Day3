{
  "nbformat": 4,
  "nbformat_minor": 0,
  "metadata": {
    "colab": {
      "name": "HOMEWORK_zab.ipynb",
      "provenance": []
    },
    "kernelspec": {
      "name": "python3",
      "display_name": "Python 3"
    }
  },
  "cells": [
    {
      "cell_type": "markdown",
      "metadata": {
        "id": "gz8cdhSIG91L",
        "colab_type": "text"
      },
      "source": [
        "Homework"
      ]
    },
    {
      "cell_type": "markdown",
      "metadata": {
        "id": "l9YgCmUFHNVj",
        "colab_type": "text"
      },
      "source": [
        "PALINDROME CHECKER"
      ]
    },
    {
      "cell_type": "code",
      "metadata": {
        "id": "uO24C1HeGV5A",
        "colab_type": "code",
        "colab": {
          "base_uri": "https://localhost:8080/",
          "height": 34
        },
        "outputId": "d9ec3991-1be1-4697-a6f8-3f7074ed7ea7"
      },
      "source": [
        "# PALINDROME CHECKER\n",
        "\n",
        "def palindrome(b):\n",
        "  a=str(b)\n",
        "  x=len(a)-1\n",
        "  w=list()\n",
        "  for b in range(0,int(len(a)/2)):\n",
        "    if a[b]!=a[x-b]:\n",
        "       w.append(\"NP\")\n",
        "    else:\n",
        "      w.append(\"p\")\n",
        "  if \"NP\" in w:\n",
        "    print(\"{} is NOT PALINDROME\".format(a))\n",
        "  else:\n",
        "    print(\"{} is PALINDROME\".format(a))\n",
        "\n",
        "palindrome(1124211)"
      ],
      "execution_count": 5,
      "outputs": [
        {
          "output_type": "stream",
          "text": [
            "1124211 is PALINDROME\n"
          ],
          "name": "stdout"
        }
      ]
    },
    {
      "cell_type": "markdown",
      "metadata": {
        "id": "fZqEwbRFHRA3",
        "colab_type": "text"
      },
      "source": [
        "PRIME NUMBER CHECKER"
      ]
    },
    {
      "cell_type": "code",
      "metadata": {
        "id": "iVpjQ9kOHErY",
        "colab_type": "code",
        "colab": {
          "base_uri": "https://localhost:8080/",
          "height": 34
        },
        "outputId": "51822072-1f8b-4ae8-c651-dafa6c7e7e24"
      },
      "source": [
        "# PRIME CHECKER\n",
        "\n",
        "def isprime(number):\n",
        "  multiples=list()\n",
        "  for x in range(1,number+1):\n",
        "    if (number % x) == 0:\n",
        "      multiples.append(x)\n",
        "  if len(multiples)==2:\n",
        "    print(\"{} is prime\".format(number))\n",
        "  else:\n",
        "    print(\"{} is not prime\".format(number))\n",
        "\n",
        "isprime(number=1)"
      ],
      "execution_count": 1,
      "outputs": [
        {
          "output_type": "stream",
          "text": [
            "1 is not prime\n"
          ],
          "name": "stdout"
        }
      ]
    },
    {
      "cell_type": "markdown",
      "metadata": {
        "id": "qWWu8TzNHZIa",
        "colab_type": "text"
      },
      "source": [
        "2PROJECT EULER QUESTIONS"
      ]
    },
    {
      "cell_type": "markdown",
      "metadata": {
        "id": "6TqCk0YRHfVH",
        "colab_type": "text"
      },
      "source": [
        "Problem 48. SELF POWERS"
      ]
    },
    {
      "cell_type": "code",
      "metadata": {
        "id": "2i81lDCAHr_L",
        "colab_type": "code",
        "colab": {
          "base_uri": "https://localhost:8080/",
          "height": 34
        },
        "outputId": "35ca095c-fd72-41aa-faf3-eac01930015f"
      },
      "source": [
        "# self powers\n",
        "def selfpower(n):\n",
        "  sum=0\n",
        "  for i in range(1,n+1):\n",
        "    y=i**i\n",
        "    sum+=y\n",
        "  w=str(sum)\n",
        "  print(w[-10:])\n",
        "\n",
        "selfpower(1000)"
      ],
      "execution_count": 3,
      "outputs": [
        {
          "output_type": "stream",
          "text": [
            "9110846700\n"
          ],
          "name": "stdout"
        }
      ]
    },
    {
      "cell_type": "markdown",
      "metadata": {
        "id": "CeJL-Fa7I6O7",
        "colab_type": "text"
      },
      "source": [
        "Problem 16. POWER DIGIT SUM"
      ]
    },
    {
      "cell_type": "code",
      "metadata": {
        "id": "HOXdMeo3IRTI",
        "colab_type": "code",
        "colab": {
          "base_uri": "https://localhost:8080/",
          "height": 34
        },
        "outputId": "9594d5e4-2c15-4dcb-d87a-60507adf54ed"
      },
      "source": [
        "# power digit sum\n",
        "\n",
        "def powerdigit(n,p):\n",
        "  y=str(n**p)\n",
        "  z=list()\n",
        "  for a in y:\n",
        "    b=int(a)\n",
        "    z.append(b)\n",
        "  # print(z)\n",
        "  print(sum(z)) \n",
        "\n",
        "powerdigit(2,1000)"
      ],
      "execution_count": 4,
      "outputs": [
        {
          "output_type": "stream",
          "text": [
            "1366\n"
          ],
          "name": "stdout"
        }
      ]
    }
  ]
}